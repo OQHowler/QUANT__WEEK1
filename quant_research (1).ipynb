{
  "nbformat": 4,
  "nbformat_minor": 0,
  "metadata": {
    "colab": {
      "provenance": []
    },
    "kernelspec": {
      "name": "python3",
      "display_name": "Python 3"
    },
    "language_info": {
      "name": "python"
    }
  },
  "cells": [
    {
      "cell_type": "markdown",
      "source": [
        "If you find any spelling mistakes in the comments, dont be baffled by that, I just did'nt put the required amount of effort necessary to write the comments (PS: (maybe)Its proof that AI did not write my code )"
      ],
      "metadata": {
        "id": "Jl-TrqvX98a0"
      }
    },
    {
      "cell_type": "code",
      "execution_count": null,
      "metadata": {
        "id": "omt2Lv3MJKbf"
      },
      "outputs": [],
      "source": [
        "#Firstly I installed kaggle in order to access the kaggle dataset using API\n",
        "!pip install -q kaggle"
      ]
    },
    {
      "cell_type": "code",
      "source": [
        "# This code is to upload a local file (Here:- kaggle API key file) into colab\n",
        "from google.colab import files\n",
        "files.upload()\n"
      ],
      "metadata": {
        "colab": {
          "base_uri": "https://localhost:8080/",
          "height": 90
        },
        "id": "XP_yaZh-KI-_",
        "outputId": "39fbb90f-0c9b-4d59-852b-db87e423f0db"
      },
      "execution_count": null,
      "outputs": [
        {
          "output_type": "display_data",
          "data": {
            "text/plain": [
              "<IPython.core.display.HTML object>"
            ],
            "text/html": [
              "\n",
              "     <input type=\"file\" id=\"files-1cf06b36-2bfd-43db-bf6a-9bb81773ddae\" name=\"files[]\" multiple disabled\n",
              "        style=\"border:none\" />\n",
              "     <output id=\"result-1cf06b36-2bfd-43db-bf6a-9bb81773ddae\">\n",
              "      Upload widget is only available when the cell has been executed in the\n",
              "      current browser session. Please rerun this cell to enable.\n",
              "      </output>\n",
              "      <script>// Copyright 2017 Google LLC\n",
              "//\n",
              "// Licensed under the Apache License, Version 2.0 (the \"License\");\n",
              "// you may not use this file except in compliance with the License.\n",
              "// You may obtain a copy of the License at\n",
              "//\n",
              "//      http://www.apache.org/licenses/LICENSE-2.0\n",
              "//\n",
              "// Unless required by applicable law or agreed to in writing, software\n",
              "// distributed under the License is distributed on an \"AS IS\" BASIS,\n",
              "// WITHOUT WARRANTIES OR CONDITIONS OF ANY KIND, either express or implied.\n",
              "// See the License for the specific language governing permissions and\n",
              "// limitations under the License.\n",
              "\n",
              "/**\n",
              " * @fileoverview Helpers for google.colab Python module.\n",
              " */\n",
              "(function(scope) {\n",
              "function span(text, styleAttributes = {}) {\n",
              "  const element = document.createElement('span');\n",
              "  element.textContent = text;\n",
              "  for (const key of Object.keys(styleAttributes)) {\n",
              "    element.style[key] = styleAttributes[key];\n",
              "  }\n",
              "  return element;\n",
              "}\n",
              "\n",
              "// Max number of bytes which will be uploaded at a time.\n",
              "const MAX_PAYLOAD_SIZE = 100 * 1024;\n",
              "\n",
              "function _uploadFiles(inputId, outputId) {\n",
              "  const steps = uploadFilesStep(inputId, outputId);\n",
              "  const outputElement = document.getElementById(outputId);\n",
              "  // Cache steps on the outputElement to make it available for the next call\n",
              "  // to uploadFilesContinue from Python.\n",
              "  outputElement.steps = steps;\n",
              "\n",
              "  return _uploadFilesContinue(outputId);\n",
              "}\n",
              "\n",
              "// This is roughly an async generator (not supported in the browser yet),\n",
              "// where there are multiple asynchronous steps and the Python side is going\n",
              "// to poll for completion of each step.\n",
              "// This uses a Promise to block the python side on completion of each step,\n",
              "// then passes the result of the previous step as the input to the next step.\n",
              "function _uploadFilesContinue(outputId) {\n",
              "  const outputElement = document.getElementById(outputId);\n",
              "  const steps = outputElement.steps;\n",
              "\n",
              "  const next = steps.next(outputElement.lastPromiseValue);\n",
              "  return Promise.resolve(next.value.promise).then((value) => {\n",
              "    // Cache the last promise value to make it available to the next\n",
              "    // step of the generator.\n",
              "    outputElement.lastPromiseValue = value;\n",
              "    return next.value.response;\n",
              "  });\n",
              "}\n",
              "\n",
              "/**\n",
              " * Generator function which is called between each async step of the upload\n",
              " * process.\n",
              " * @param {string} inputId Element ID of the input file picker element.\n",
              " * @param {string} outputId Element ID of the output display.\n",
              " * @return {!Iterable<!Object>} Iterable of next steps.\n",
              " */\n",
              "function* uploadFilesStep(inputId, outputId) {\n",
              "  const inputElement = document.getElementById(inputId);\n",
              "  inputElement.disabled = false;\n",
              "\n",
              "  const outputElement = document.getElementById(outputId);\n",
              "  outputElement.innerHTML = '';\n",
              "\n",
              "  const pickedPromise = new Promise((resolve) => {\n",
              "    inputElement.addEventListener('change', (e) => {\n",
              "      resolve(e.target.files);\n",
              "    });\n",
              "  });\n",
              "\n",
              "  const cancel = document.createElement('button');\n",
              "  inputElement.parentElement.appendChild(cancel);\n",
              "  cancel.textContent = 'Cancel upload';\n",
              "  const cancelPromise = new Promise((resolve) => {\n",
              "    cancel.onclick = () => {\n",
              "      resolve(null);\n",
              "    };\n",
              "  });\n",
              "\n",
              "  // Wait for the user to pick the files.\n",
              "  const files = yield {\n",
              "    promise: Promise.race([pickedPromise, cancelPromise]),\n",
              "    response: {\n",
              "      action: 'starting',\n",
              "    }\n",
              "  };\n",
              "\n",
              "  cancel.remove();\n",
              "\n",
              "  // Disable the input element since further picks are not allowed.\n",
              "  inputElement.disabled = true;\n",
              "\n",
              "  if (!files) {\n",
              "    return {\n",
              "      response: {\n",
              "        action: 'complete',\n",
              "      }\n",
              "    };\n",
              "  }\n",
              "\n",
              "  for (const file of files) {\n",
              "    const li = document.createElement('li');\n",
              "    li.append(span(file.name, {fontWeight: 'bold'}));\n",
              "    li.append(span(\n",
              "        `(${file.type || 'n/a'}) - ${file.size} bytes, ` +\n",
              "        `last modified: ${\n",
              "            file.lastModifiedDate ? file.lastModifiedDate.toLocaleDateString() :\n",
              "                                    'n/a'} - `));\n",
              "    const percent = span('0% done');\n",
              "    li.appendChild(percent);\n",
              "\n",
              "    outputElement.appendChild(li);\n",
              "\n",
              "    const fileDataPromise = new Promise((resolve) => {\n",
              "      const reader = new FileReader();\n",
              "      reader.onload = (e) => {\n",
              "        resolve(e.target.result);\n",
              "      };\n",
              "      reader.readAsArrayBuffer(file);\n",
              "    });\n",
              "    // Wait for the data to be ready.\n",
              "    let fileData = yield {\n",
              "      promise: fileDataPromise,\n",
              "      response: {\n",
              "        action: 'continue',\n",
              "      }\n",
              "    };\n",
              "\n",
              "    // Use a chunked sending to avoid message size limits. See b/62115660.\n",
              "    let position = 0;\n",
              "    do {\n",
              "      const length = Math.min(fileData.byteLength - position, MAX_PAYLOAD_SIZE);\n",
              "      const chunk = new Uint8Array(fileData, position, length);\n",
              "      position += length;\n",
              "\n",
              "      const base64 = btoa(String.fromCharCode.apply(null, chunk));\n",
              "      yield {\n",
              "        response: {\n",
              "          action: 'append',\n",
              "          file: file.name,\n",
              "          data: base64,\n",
              "        },\n",
              "      };\n",
              "\n",
              "      let percentDone = fileData.byteLength === 0 ?\n",
              "          100 :\n",
              "          Math.round((position / fileData.byteLength) * 100);\n",
              "      percent.textContent = `${percentDone}% done`;\n",
              "\n",
              "    } while (position < fileData.byteLength);\n",
              "  }\n",
              "\n",
              "  // All done.\n",
              "  yield {\n",
              "    response: {\n",
              "      action: 'complete',\n",
              "    }\n",
              "  };\n",
              "}\n",
              "\n",
              "scope.google = scope.google || {};\n",
              "scope.google.colab = scope.google.colab || {};\n",
              "scope.google.colab._files = {\n",
              "  _uploadFiles,\n",
              "  _uploadFilesContinue,\n",
              "};\n",
              "})(self);\n",
              "</script> "
            ]
          },
          "metadata": {}
        },
        {
          "output_type": "stream",
          "name": "stdout",
          "text": [
            "Saving kaggle.json to kaggle (1).json\n"
          ]
        },
        {
          "output_type": "execute_result",
          "data": {
            "text/plain": [
              "{'kaggle (1).json': b'{\"username\":\"shoubhitwandile\",\"key\":\"e9a7c8ee1739b87ba1bd1c1a4ed9f68a\"}'}"
            ]
          },
          "metadata": {},
          "execution_count": 77
        }
      ]
    },
    {
      "cell_type": "code",
      "source": [
        "# Then I created a kaggle folder\n",
        "!mkdir ~/.kaggle\n"
      ],
      "metadata": {
        "id": "Nu0EN-JeKV34",
        "colab": {
          "base_uri": "https://localhost:8080/"
        },
        "outputId": "1b19e022-f291-40ac-8b17-f3acecc19460"
      },
      "execution_count": null,
      "outputs": [
        {
          "output_type": "stream",
          "name": "stdout",
          "text": [
            "mkdir: cannot create directory ‘/root/.kaggle’: File exists\n"
          ]
        }
      ]
    },
    {
      "cell_type": "code",
      "source": [
        "# Then I copied the kaggle.json file to folder created\n",
        "!cp kaggle.json ~/.kaggle/\n",
        "\n"
      ],
      "metadata": {
        "id": "e1UDRcf7LK9j"
      },
      "execution_count": null,
      "outputs": []
    },
    {
      "cell_type": "code",
      "source": [
        "# This gives permission for the json to act\n",
        "# I dont know much about this, it was in the youtube video recommended\n",
        "!chmod 600 ~/.kaggle/kaggle.json\n"
      ],
      "metadata": {
        "id": "rdPeVIOgLPv2"
      },
      "execution_count": null,
      "outputs": []
    },
    {
      "cell_type": "code",
      "source": [
        "# Now this uses a API dataset code in order to directly download the dataset in form of zip file\n",
        "!kaggle datasets download -d borismarjanovic/price-volume-data-for-all-us-stocks-etfs\n"
      ],
      "metadata": {
        "colab": {
          "base_uri": "https://localhost:8080/"
        },
        "id": "J9N1_b86PCmI",
        "outputId": "a535c532-95d8-45d3-d10c-d4dc0dc89eb5"
      },
      "execution_count": null,
      "outputs": [
        {
          "output_type": "stream",
          "name": "stdout",
          "text": [
            "Dataset URL: https://www.kaggle.com/datasets/borismarjanovic/price-volume-data-for-all-us-stocks-etfs\n",
            "License(s): CC0-1.0\n",
            "price-volume-data-for-all-us-stocks-etfs.zip: Skipping, found more recently modified local copy (use --force to force download)\n"
          ]
        }
      ]
    },
    {
      "cell_type": "code",
      "source": [
        "# This unzips the zip file downloaded and then we get all the files in the dataset\n",
        "!unzip price-volume-data-for-all-us-stocks-etfs.zip\n"
      ],
      "metadata": {
        "colab": {
          "base_uri": "https://localhost:8080/"
        },
        "id": "N_4AHiBmQCU7",
        "outputId": "642ce3f3-e65c-4446-f609-511abddac15e"
      },
      "execution_count": null,
      "outputs": [
        {
          "output_type": "stream",
          "name": "stdout",
          "text": [
            "Archive:  price-volume-data-for-all-us-stocks-etfs.zip\n",
            "replace Data/ETFs/aadr.us.txt? [y]es, [n]o, [A]ll, [N]one, [r]ename: "
          ]
        }
      ]
    },
    {
      "cell_type": "code",
      "source": [
        "import pandas as pd                                                       # pandas is used for data analysis\n",
        "import os                                                                 # os is used to interact with the operating system\n",
        "\n",
        "tickers = ['aapl', 'msft', 'amzn', 'tsla', 'googl']                       # Defining a python list named TICKERS\n",
        "data_frames = []                                                          # defining a empty list to store datasets\n",
        "\n",
        "\n",
        "for ticker in tickers:                                                    # Loop for loading .txt files\n",
        "    file_path = f'/content/Stocks/{ticker}.us.txt'                        # for each ticker I construced a file path using f string\n",
        "\n",
        "\n",
        "    df = pd.read_csv(file_path, sep=',', parse_dates=['Date'])            # Using a built in function to read files into a dataframe\n",
        "                                                                          # file_path = path to the file\n",
        "                                                                          # sep=',' = this tells pandas to use commas as column seprators\n",
        "                                                                          # parse_dates parameter instructs pandas to convert column 'date'-\n",
        "                                                                          #--into actual datatime objects instead of plain text\n",
        "\n",
        "    df['Ticker'] = ticker                                                 # Here I added a column named ticker to store the current company name\n",
        "    data_frames.append(df)                                                # Now at the end of each iteration, I will be adding the created\n",
        "                                                                          # dataframe into the previously created list\n",
        "\n",
        "\n",
        "#---------------------------------AT THIS POINT WE HAVE A LIST OF 5 DIFFERENT DATAFRAMES------------------------------------------------------\n",
        "\n",
        "\n",
        "\n",
        "combined_df = pd.concat(data_frames)                                      # This combines all the 5 dataframes into a single large datframe\n",
        "\n",
        "\n",
        "multi_index_df = combined_df.set_index(['Ticker', 'Date']).sort_index()   # replacing row numbers with a multiIndex(two-level index)\n",
        "                                                                          # This is done to avoid confusion while traversing columns\n",
        "                                                                          # And then I have sorted it wrt ticker and date\n",
        "\n",
        "multi_index_df.head()                                                     # This displays the first five rows(just to check)(no real use)\n"
      ],
      "metadata": {
        "colab": {
          "base_uri": "https://localhost:8080/",
          "height": 237
        },
        "id": "_qbe2ibCSzmC",
        "outputId": "38c53f4b-e6bb-40b4-ce08-f60b2437b023"
      },
      "execution_count": null,
      "outputs": [
        {
          "output_type": "execute_result",
          "data": {
            "text/plain": [
              "                      Open     High      Low    Close    Volume  OpenInt\n",
              "Ticker Date                                                             \n",
              "aapl   1984-09-07  0.42388  0.42902  0.41874  0.42388  23220030        0\n",
              "       1984-09-10  0.42388  0.42516  0.41366  0.42134  18022532        0\n",
              "       1984-09-11  0.42516  0.43668  0.42516  0.42902  42498199        0\n",
              "       1984-09-12  0.42902  0.43157  0.41618  0.41618  37125801        0\n",
              "       1984-09-13  0.43927  0.44052  0.43927  0.43927  57822062        0"
            ],
            "text/html": [
              "\n",
              "  <div id=\"df-0d8d6eda-3f66-4583-889c-cc79fb2ac1d5\" class=\"colab-df-container\">\n",
              "    <div>\n",
              "<style scoped>\n",
              "    .dataframe tbody tr th:only-of-type {\n",
              "        vertical-align: middle;\n",
              "    }\n",
              "\n",
              "    .dataframe tbody tr th {\n",
              "        vertical-align: top;\n",
              "    }\n",
              "\n",
              "    .dataframe thead th {\n",
              "        text-align: right;\n",
              "    }\n",
              "</style>\n",
              "<table border=\"1\" class=\"dataframe\">\n",
              "  <thead>\n",
              "    <tr style=\"text-align: right;\">\n",
              "      <th></th>\n",
              "      <th></th>\n",
              "      <th>Open</th>\n",
              "      <th>High</th>\n",
              "      <th>Low</th>\n",
              "      <th>Close</th>\n",
              "      <th>Volume</th>\n",
              "      <th>OpenInt</th>\n",
              "    </tr>\n",
              "    <tr>\n",
              "      <th>Ticker</th>\n",
              "      <th>Date</th>\n",
              "      <th></th>\n",
              "      <th></th>\n",
              "      <th></th>\n",
              "      <th></th>\n",
              "      <th></th>\n",
              "      <th></th>\n",
              "    </tr>\n",
              "  </thead>\n",
              "  <tbody>\n",
              "    <tr>\n",
              "      <th rowspan=\"5\" valign=\"top\">aapl</th>\n",
              "      <th>1984-09-07</th>\n",
              "      <td>0.42388</td>\n",
              "      <td>0.42902</td>\n",
              "      <td>0.41874</td>\n",
              "      <td>0.42388</td>\n",
              "      <td>23220030</td>\n",
              "      <td>0</td>\n",
              "    </tr>\n",
              "    <tr>\n",
              "      <th>1984-09-10</th>\n",
              "      <td>0.42388</td>\n",
              "      <td>0.42516</td>\n",
              "      <td>0.41366</td>\n",
              "      <td>0.42134</td>\n",
              "      <td>18022532</td>\n",
              "      <td>0</td>\n",
              "    </tr>\n",
              "    <tr>\n",
              "      <th>1984-09-11</th>\n",
              "      <td>0.42516</td>\n",
              "      <td>0.43668</td>\n",
              "      <td>0.42516</td>\n",
              "      <td>0.42902</td>\n",
              "      <td>42498199</td>\n",
              "      <td>0</td>\n",
              "    </tr>\n",
              "    <tr>\n",
              "      <th>1984-09-12</th>\n",
              "      <td>0.42902</td>\n",
              "      <td>0.43157</td>\n",
              "      <td>0.41618</td>\n",
              "      <td>0.41618</td>\n",
              "      <td>37125801</td>\n",
              "      <td>0</td>\n",
              "    </tr>\n",
              "    <tr>\n",
              "      <th>1984-09-13</th>\n",
              "      <td>0.43927</td>\n",
              "      <td>0.44052</td>\n",
              "      <td>0.43927</td>\n",
              "      <td>0.43927</td>\n",
              "      <td>57822062</td>\n",
              "      <td>0</td>\n",
              "    </tr>\n",
              "  </tbody>\n",
              "</table>\n",
              "</div>\n",
              "    <div class=\"colab-df-buttons\">\n",
              "\n",
              "  <div class=\"colab-df-container\">\n",
              "    <button class=\"colab-df-convert\" onclick=\"convertToInteractive('df-0d8d6eda-3f66-4583-889c-cc79fb2ac1d5')\"\n",
              "            title=\"Convert this dataframe to an interactive table.\"\n",
              "            style=\"display:none;\">\n",
              "\n",
              "  <svg xmlns=\"http://www.w3.org/2000/svg\" height=\"24px\" viewBox=\"0 -960 960 960\">\n",
              "    <path d=\"M120-120v-720h720v720H120Zm60-500h600v-160H180v160Zm220 220h160v-160H400v160Zm0 220h160v-160H400v160ZM180-400h160v-160H180v160Zm440 0h160v-160H620v160ZM180-180h160v-160H180v160Zm440 0h160v-160H620v160Z\"/>\n",
              "  </svg>\n",
              "    </button>\n",
              "\n",
              "  <style>\n",
              "    .colab-df-container {\n",
              "      display:flex;\n",
              "      gap: 12px;\n",
              "    }\n",
              "\n",
              "    .colab-df-convert {\n",
              "      background-color: #E8F0FE;\n",
              "      border: none;\n",
              "      border-radius: 50%;\n",
              "      cursor: pointer;\n",
              "      display: none;\n",
              "      fill: #1967D2;\n",
              "      height: 32px;\n",
              "      padding: 0 0 0 0;\n",
              "      width: 32px;\n",
              "    }\n",
              "\n",
              "    .colab-df-convert:hover {\n",
              "      background-color: #E2EBFA;\n",
              "      box-shadow: 0px 1px 2px rgba(60, 64, 67, 0.3), 0px 1px 3px 1px rgba(60, 64, 67, 0.15);\n",
              "      fill: #174EA6;\n",
              "    }\n",
              "\n",
              "    .colab-df-buttons div {\n",
              "      margin-bottom: 4px;\n",
              "    }\n",
              "\n",
              "    [theme=dark] .colab-df-convert {\n",
              "      background-color: #3B4455;\n",
              "      fill: #D2E3FC;\n",
              "    }\n",
              "\n",
              "    [theme=dark] .colab-df-convert:hover {\n",
              "      background-color: #434B5C;\n",
              "      box-shadow: 0px 1px 3px 1px rgba(0, 0, 0, 0.15);\n",
              "      filter: drop-shadow(0px 1px 2px rgba(0, 0, 0, 0.3));\n",
              "      fill: #FFFFFF;\n",
              "    }\n",
              "  </style>\n",
              "\n",
              "    <script>\n",
              "      const buttonEl =\n",
              "        document.querySelector('#df-0d8d6eda-3f66-4583-889c-cc79fb2ac1d5 button.colab-df-convert');\n",
              "      buttonEl.style.display =\n",
              "        google.colab.kernel.accessAllowed ? 'block' : 'none';\n",
              "\n",
              "      async function convertToInteractive(key) {\n",
              "        const element = document.querySelector('#df-0d8d6eda-3f66-4583-889c-cc79fb2ac1d5');\n",
              "        const dataTable =\n",
              "          await google.colab.kernel.invokeFunction('convertToInteractive',\n",
              "                                                    [key], {});\n",
              "        if (!dataTable) return;\n",
              "\n",
              "        const docLinkHtml = 'Like what you see? Visit the ' +\n",
              "          '<a target=\"_blank\" href=https://colab.research.google.com/notebooks/data_table.ipynb>data table notebook</a>'\n",
              "          + ' to learn more about interactive tables.';\n",
              "        element.innerHTML = '';\n",
              "        dataTable['output_type'] = 'display_data';\n",
              "        await google.colab.output.renderOutput(dataTable, element);\n",
              "        const docLink = document.createElement('div');\n",
              "        docLink.innerHTML = docLinkHtml;\n",
              "        element.appendChild(docLink);\n",
              "      }\n",
              "    </script>\n",
              "  </div>\n",
              "\n",
              "\n",
              "    <div id=\"df-339fd336-21f0-469e-9f46-6c390c18383a\">\n",
              "      <button class=\"colab-df-quickchart\" onclick=\"quickchart('df-339fd336-21f0-469e-9f46-6c390c18383a')\"\n",
              "                title=\"Suggest charts\"\n",
              "                style=\"display:none;\">\n",
              "\n",
              "<svg xmlns=\"http://www.w3.org/2000/svg\" height=\"24px\"viewBox=\"0 0 24 24\"\n",
              "     width=\"24px\">\n",
              "    <g>\n",
              "        <path d=\"M19 3H5c-1.1 0-2 .9-2 2v14c0 1.1.9 2 2 2h14c1.1 0 2-.9 2-2V5c0-1.1-.9-2-2-2zM9 17H7v-7h2v7zm4 0h-2V7h2v10zm4 0h-2v-4h2v4z\"/>\n",
              "    </g>\n",
              "</svg>\n",
              "      </button>\n",
              "\n",
              "<style>\n",
              "  .colab-df-quickchart {\n",
              "      --bg-color: #E8F0FE;\n",
              "      --fill-color: #1967D2;\n",
              "      --hover-bg-color: #E2EBFA;\n",
              "      --hover-fill-color: #174EA6;\n",
              "      --disabled-fill-color: #AAA;\n",
              "      --disabled-bg-color: #DDD;\n",
              "  }\n",
              "\n",
              "  [theme=dark] .colab-df-quickchart {\n",
              "      --bg-color: #3B4455;\n",
              "      --fill-color: #D2E3FC;\n",
              "      --hover-bg-color: #434B5C;\n",
              "      --hover-fill-color: #FFFFFF;\n",
              "      --disabled-bg-color: #3B4455;\n",
              "      --disabled-fill-color: #666;\n",
              "  }\n",
              "\n",
              "  .colab-df-quickchart {\n",
              "    background-color: var(--bg-color);\n",
              "    border: none;\n",
              "    border-radius: 50%;\n",
              "    cursor: pointer;\n",
              "    display: none;\n",
              "    fill: var(--fill-color);\n",
              "    height: 32px;\n",
              "    padding: 0;\n",
              "    width: 32px;\n",
              "  }\n",
              "\n",
              "  .colab-df-quickchart:hover {\n",
              "    background-color: var(--hover-bg-color);\n",
              "    box-shadow: 0 1px 2px rgba(60, 64, 67, 0.3), 0 1px 3px 1px rgba(60, 64, 67, 0.15);\n",
              "    fill: var(--button-hover-fill-color);\n",
              "  }\n",
              "\n",
              "  .colab-df-quickchart-complete:disabled,\n",
              "  .colab-df-quickchart-complete:disabled:hover {\n",
              "    background-color: var(--disabled-bg-color);\n",
              "    fill: var(--disabled-fill-color);\n",
              "    box-shadow: none;\n",
              "  }\n",
              "\n",
              "  .colab-df-spinner {\n",
              "    border: 2px solid var(--fill-color);\n",
              "    border-color: transparent;\n",
              "    border-bottom-color: var(--fill-color);\n",
              "    animation:\n",
              "      spin 1s steps(1) infinite;\n",
              "  }\n",
              "\n",
              "  @keyframes spin {\n",
              "    0% {\n",
              "      border-color: transparent;\n",
              "      border-bottom-color: var(--fill-color);\n",
              "      border-left-color: var(--fill-color);\n",
              "    }\n",
              "    20% {\n",
              "      border-color: transparent;\n",
              "      border-left-color: var(--fill-color);\n",
              "      border-top-color: var(--fill-color);\n",
              "    }\n",
              "    30% {\n",
              "      border-color: transparent;\n",
              "      border-left-color: var(--fill-color);\n",
              "      border-top-color: var(--fill-color);\n",
              "      border-right-color: var(--fill-color);\n",
              "    }\n",
              "    40% {\n",
              "      border-color: transparent;\n",
              "      border-right-color: var(--fill-color);\n",
              "      border-top-color: var(--fill-color);\n",
              "    }\n",
              "    60% {\n",
              "      border-color: transparent;\n",
              "      border-right-color: var(--fill-color);\n",
              "    }\n",
              "    80% {\n",
              "      border-color: transparent;\n",
              "      border-right-color: var(--fill-color);\n",
              "      border-bottom-color: var(--fill-color);\n",
              "    }\n",
              "    90% {\n",
              "      border-color: transparent;\n",
              "      border-bottom-color: var(--fill-color);\n",
              "    }\n",
              "  }\n",
              "</style>\n",
              "\n",
              "      <script>\n",
              "        async function quickchart(key) {\n",
              "          const quickchartButtonEl =\n",
              "            document.querySelector('#' + key + ' button');\n",
              "          quickchartButtonEl.disabled = true;  // To prevent multiple clicks.\n",
              "          quickchartButtonEl.classList.add('colab-df-spinner');\n",
              "          try {\n",
              "            const charts = await google.colab.kernel.invokeFunction(\n",
              "                'suggestCharts', [key], {});\n",
              "          } catch (error) {\n",
              "            console.error('Error during call to suggestCharts:', error);\n",
              "          }\n",
              "          quickchartButtonEl.classList.remove('colab-df-spinner');\n",
              "          quickchartButtonEl.classList.add('colab-df-quickchart-complete');\n",
              "        }\n",
              "        (() => {\n",
              "          let quickchartButtonEl =\n",
              "            document.querySelector('#df-339fd336-21f0-469e-9f46-6c390c18383a button');\n",
              "          quickchartButtonEl.style.display =\n",
              "            google.colab.kernel.accessAllowed ? 'block' : 'none';\n",
              "        })();\n",
              "      </script>\n",
              "    </div>\n",
              "\n",
              "    </div>\n",
              "  </div>\n"
            ],
            "application/vnd.google.colaboratory.intrinsic+json": {
              "type": "dataframe",
              "variable_name": "multi_index_df",
              "summary": "{\n  \"name\": \"multi_index_df\",\n  \"rows\": 26691,\n  \"fields\": [\n    {\n      \"column\": \"Open\",\n      \"properties\": {\n        \"dtype\": \"number\",\n        \"std\": 187.310525466241,\n        \"min\": 0.0672,\n        \"max\": 1126.1,\n        \"num_unique_values\": 16297,\n        \"samples\": [\n          308.27,\n          13.28,\n          149.89\n        ],\n        \"semantic_type\": \"\",\n        \"description\": \"\"\n      }\n    },\n    {\n      \"column\": \"High\",\n      \"properties\": {\n        \"dtype\": \"number\",\n        \"std\": 188.76773641642473,\n        \"min\": 0.0672,\n        \"max\": 1135.54,\n        \"num_unique_values\": 16188,\n        \"samples\": [\n          95.41,\n          22.39,\n          99.423\n        ],\n        \"semantic_type\": \"\",\n        \"description\": \"\"\n      }\n    },\n    {\n      \"column\": \"Low\",\n      \"properties\": {\n        \"dtype\": \"number\",\n        \"std\": 185.63221252467517,\n        \"min\": 0.0672,\n        \"max\": 1124.06,\n        \"num_unique_values\": 16280,\n        \"samples\": [\n          21.635,\n          23.405,\n          7.455\n        ],\n        \"semantic_type\": \"\",\n        \"description\": \"\"\n      }\n    },\n    {\n      \"column\": \"Close\",\n      \"properties\": {\n        \"dtype\": \"number\",\n        \"std\": 187.26773887417178,\n        \"min\": 0.0672,\n        \"max\": 1132.88,\n        \"num_unique_values\": 16651,\n        \"samples\": [\n          351.35,\n          24.1,\n          31.05\n        ],\n        \"semantic_type\": \"\",\n        \"description\": \"\"\n      }\n    },\n    {\n      \"column\": \"Volume\",\n      \"properties\": {\n        \"dtype\": \"number\",\n        \"std\": 76163788,\n        \"min\": 0,\n        \"max\": 2069769775,\n        \"num_unique_values\": 26120,\n        \"samples\": [\n          87827684,\n          8220320,\n          4432237\n        ],\n        \"semantic_type\": \"\",\n        \"description\": \"\"\n      }\n    },\n    {\n      \"column\": \"OpenInt\",\n      \"properties\": {\n        \"dtype\": \"number\",\n        \"std\": 0,\n        \"min\": 0,\n        \"max\": 0,\n        \"num_unique_values\": 1,\n        \"samples\": [\n          0\n        ],\n        \"semantic_type\": \"\",\n        \"description\": \"\"\n      }\n    }\n  ]\n}"
            }
          },
          "metadata": {},
          "execution_count": 134
        }
      ]
    },
    {
      "cell_type": "code",
      "source": [
        "present_tickers = multi_index_df.index.get_level_values('Ticker').unique().tolist()  # TO CHECK THE TICKERS\n",
        "print(present_tickers)\n"
      ],
      "metadata": {
        "colab": {
          "base_uri": "https://localhost:8080/"
        },
        "id": "-9_RJOoRIMmp",
        "outputId": "0c738021-fd5e-423f-f816-f00d4ee6df58"
      },
      "execution_count": null,
      "outputs": [
        {
          "output_type": "stream",
          "name": "stdout",
          "text": [
            "['aapl', 'amzn', 'googl', 'msft', 'tsla']\n"
          ]
        }
      ]
    },
    {
      "cell_type": "code",
      "source": [
        "import pandas as pd\n",
        "missing_per_ticker = multi_index_df.isna().groupby('Ticker').sum()                 # df.isna()--creates a boolean dataframe,True is stored where data is missing\n",
        "                                                                           # .groupby('Ticker')--groups data b ticker column, for analysing missing data by company\n",
        "                                                                           # .sum()-- sums the boolean values to get total number of values missing\n",
        "\n",
        "print(\"Missing values per Ticker:\\n\", missing_per_ticker)       # TO CHECK THE MISSING VALUES\n",
        "\n",
        "\n",
        "\n",
        "\n",
        "\n",
        "\n",
        "\n",
        "\n"
      ],
      "metadata": {
        "colab": {
          "base_uri": "https://localhost:8080/"
        },
        "id": "6RcNolxiyf-T",
        "outputId": "63ab17ad-edb3-4d67-a5a9-ffc9cc1ea0d7"
      },
      "execution_count": null,
      "outputs": [
        {
          "output_type": "stream",
          "name": "stdout",
          "text": [
            "Missing values per Ticker:\n",
            "         Open  High  Low  Close  Volume  OpenInt\n",
            "Ticker                                         \n",
            "aapl       0     0    0      0       0        0\n",
            "amzn       0     0    0      0       0        0\n",
            "googl      0     0    0      0       0        0\n",
            "msft       0     0    0      0       0        0\n",
            "tsla       0     0    0      0       0        0\n"
          ]
        }
      ]
    },
    {
      "cell_type": "code",
      "source": [
        "# NOW I WILL FILL THE MISSING VALUES(which is not required here)\n",
        "\n",
        "\n",
        "# Option A: Interpolation (good for numerical data like prices)\n",
        "#df = multi_index_df.groupby('Ticker').apply(lambda group: group.interpolate())\n",
        "\n",
        "# Option B: Forward fill (use if data is non-numeric or interpolation isn’t appropriate)\n",
        "#df = df.groupby('Ticker').apply(lambda group: group.ffill())\n",
        "\n",
        "# Optional: Backward fill if forward fill doesn't fill all values\n",
        "#df = df.groupby('Ticker').apply(lambda group: group.bfill())"
      ],
      "metadata": {
        "id": "8IGIp8jF300N"
      },
      "execution_count": null,
      "outputs": []
    },
    {
      "cell_type": "code",
      "source": [
        "import pandas as pd\n",
        "\n",
        "#  RECheck for missing values per ticker        #USEFUL WHEN VALUES ARE actually missing\n",
        "missing_values = multi_index_df.isnull().groupby('Ticker').sum()\n",
        "print(\" Missing values per ticker:\")\n",
        "print(missing_values)\n",
        "\n",
        "\n",
        "\n",
        "\n"
      ],
      "metadata": {
        "colab": {
          "base_uri": "https://localhost:8080/"
        },
        "id": "p1gpXAW3iImJ",
        "outputId": "c07b1c42-ce95-47d3-f55f-7805ec8bd479"
      },
      "execution_count": null,
      "outputs": [
        {
          "output_type": "stream",
          "name": "stdout",
          "text": [
            " Missing values per ticker:\n",
            "        Open  High  Low  Close  Volume  OpenInt  Daily Return  7-day MA  \\\n",
            "Ticker                                                                    \n",
            "aapl       0     0    0      0       0        0             1         6   \n",
            "amzn       0     0    0      0       0        0             1         6   \n",
            "googl      0     0    0      0       0        0             1         6   \n",
            "msft       0     0    0      0       0        0             1         6   \n",
            "tsla       0     0    0      0       0        0             1         6   \n",
            "\n",
            "        30-day MA  Rolling Volatility (30d)  \n",
            "Ticker                                       \n",
            "aapl           29                        30  \n",
            "amzn           29                        30  \n",
            "googl          29                        30  \n",
            "msft           29                        30  \n",
            "tsla           29                        30  \n"
          ]
        }
      ]
    },
    {
      "cell_type": "code",
      "source": [
        "print(multi_index_df.index.names)                                # for checking the index\n"
      ],
      "metadata": {
        "colab": {
          "base_uri": "https://localhost:8080/"
        },
        "id": "wnNQ-0o8zQuT",
        "outputId": "b2bab1b9-8aad-449e-9a01-025e64c4c1f2"
      },
      "execution_count": null,
      "outputs": [
        {
          "output_type": "stream",
          "name": "stdout",
          "text": [
            "['Ticker', 'Date']\n"
          ]
        }
      ]
    },
    {
      "cell_type": "code",
      "source": [
        "# Making sure 'Date' is in columns and not in the index(else modification Not possible)\n",
        "if 'Date' not in multi_index_df.columns:\n",
        "    multi_index_df = multi_index_df.reset_index()\n",
        "\n",
        "# conversation into datetime object\n",
        "multi_index_df['Date'] = pd.to_datetime(multi_index_df['Date'])\n",
        "multi_index_df = multi_index_df.set_index(['Ticker', 'Date']).sort_index() # making a multiindex and sorting\n"
      ],
      "metadata": {
        "colab": {
          "base_uri": "https://localhost:8080/"
        },
        "id": "CBXuif-EOrIi",
        "outputId": "405dd2e9-a2f9-4593-b0b7-9f0480c5249a"
      },
      "execution_count": null,
      "outputs": [
        {
          "output_type": "stream",
          "name": "stdout",
          "text": [
            "Index(['Ticker', 'Date', 'Open', 'High', 'Low', 'Close', 'Volume', 'OpenInt'], dtype='object')\n"
          ]
        }
      ]
    },
    {
      "cell_type": "code",
      "source": [
        "print(multi_index_df.index.is_monotonic_increasing)                                # This checks if the  index values are sorted(not necessary)\n"
      ],
      "metadata": {
        "colab": {
          "base_uri": "https://localhost:8080/"
        },
        "id": "cm1wJHQIzg_N",
        "outputId": "96b8e913-3ff1-4d30-978d-eed8abd2e669"
      },
      "execution_count": null,
      "outputs": [
        {
          "output_type": "stream",
          "name": "stdout",
          "text": [
            "True\n"
          ]
        }
      ]
    },
    {
      "cell_type": "code",
      "source": [
        "import pandas as pd\n",
        "\n",
        "\n",
        "latest_date = multi_index_df.index.get_level_values('Date').max()           # to get the last date in the dataset\n",
        "\n",
        "\n",
        "cutoff_date = latest_date - pd.DateOffset(years=10)             # This date is 10 years prior to the latest date\n",
        "\n",
        "\n",
        "multi_index_df = multi_index_df[multi_index_df.index.get_level_values('Date') >= cutoff_date]       # selection of rows(dates) greater tahn the cuttoff date\n"
      ],
      "metadata": {
        "id": "OsY_mW1GAiGZ"
      },
      "execution_count": null,
      "outputs": []
    },
    {
      "cell_type": "code",
      "source": [
        "multi_index_df = multi_index_df.reset_index()  # bring 'Date' and 'Ticker' back as columns\n",
        "multi_index_df['Date'] = pd.to_datetime(multi_index_df['Date'])\n",
        "multi_index_df = multi_index_df.set_index(['Ticker', 'Date']).sort_index()\n",
        "\n",
        "#this code is for correcting some errors,writeen by chatGPT nad no idea why I did the convertion again\n",
        "#                              ;-;"
      ],
      "metadata": {
        "id": "F-1LViFBNj3w"
      },
      "execution_count": null,
      "outputs": []
    },
    {
      "cell_type": "code",
      "source": [
        "# Group by Ticker to apply transformations independently\n",
        "multi_index_df['Daily Return'] = multi_index_df.groupby(level='Ticker')['Close'].pct_change() * 100     # df.groupby--Splits the data by stocks\n",
        "                                                                                                        # pct_change--computes change bet consq closes\n",
        "                                                                                                        # mulltiply by 100 to convert into percentage\n",
        "\n",
        "\n",
        "\n",
        "multi_index_df['7-day MA'] = multi_index_df.groupby(level='Ticker')['Close'].transform(lambda x: x.rolling(window=7).mean())    # transform keeps shape\n",
        "multi_index_df['30-day MA'] = multi_index_df.groupby(level='Ticker')['Close'].transform(lambda x: x.rolling(window=30).mean())\n",
        "\n",
        "# Rolling Volatility (30-day Std Dev of Daily Return)\n",
        "multi_index_df['Rolling Volatility (30d)'] = multi_index_df.groupby(level='Ticker')['Daily Return'].transform(lambda x: x.rolling(window=30).std())\n"
      ],
      "metadata": {
        "id": "wEpjMxjLz3kJ"
      },
      "execution_count": null,
      "outputs": []
    },
    {
      "cell_type": "code",
      "source": [
        "print(multi_index_df.head(15))  # For seeing the new columns\n"
      ],
      "metadata": {
        "colab": {
          "base_uri": "https://localhost:8080/"
        },
        "id": "miokCn77z5qH",
        "outputId": "aedd87e6-9d54-4b73-e927-484fb2684738"
      },
      "execution_count": null,
      "outputs": [
        {
          "output_type": "stream",
          "name": "stdout",
          "text": [
            "                     Open    High     Low   Close     Volume  OpenInt  \\\n",
            "Ticker Date                                                             \n",
            "aapl   2007-11-12  21.130  21.479  19.291  19.691  492362604        0   \n",
            "       2007-11-13  20.615  21.897  19.691  21.765  484373501        0   \n",
            "       2007-11-14  22.733  22.739  20.970  21.274  403585172        0   \n",
            "       2007-11-15  21.280  21.717  20.528  21.040  414487458        0   \n",
            "       2007-11-16  21.193  21.388  20.405  21.309  385660112        0   \n",
            "       2007-11-19  21.262  21.540  20.758  20.996  321694225        0   \n",
            "       2007-11-20  21.247  22.000  20.942  21.623  429930531        0   \n",
            "       2007-11-21  21.195  22.072  21.086  21.572  339509885        0   \n",
            "       2007-11-23  22.027  22.033  21.739  21.967  129891462        0   \n",
            "       2007-11-26  22.268  22.700  22.072  22.097  363869639        0   \n",
            "       2007-11-27  22.439  22.511  21.772  22.387  366923874        0   \n",
            "       2007-11-28  22.669  23.128  22.456  23.080  320237489        0   \n",
            "       2007-11-29  22.959  23.714  22.943  23.600  291924936        0   \n",
            "       2007-11-30  24.016  24.039  23.012  23.335  331057965        0   \n",
            "       2007-12-03  23.282  23.584  22.755  22.908  267838964        0   \n",
            "\n",
            "                   Daily Return   7-day MA  30-day MA  \\\n",
            "Ticker Date                                             \n",
            "aapl   2007-11-12           NaN        NaN        NaN   \n",
            "       2007-11-13     10.532731        NaN        NaN   \n",
            "       2007-11-14     -2.255915        NaN        NaN   \n",
            "       2007-11-15     -1.099934        NaN        NaN   \n",
            "       2007-11-16      1.278517        NaN        NaN   \n",
            "       2007-11-19     -1.468863        NaN        NaN   \n",
            "       2007-11-20      2.986283  21.099714        NaN   \n",
            "       2007-11-21     -0.235860  21.368429        NaN   \n",
            "       2007-11-23      1.831077  21.397286        NaN   \n",
            "       2007-11-26      0.591797  21.514857        NaN   \n",
            "       2007-11-27      1.312395  21.707286        NaN   \n",
            "       2007-11-28      3.095547  21.960286        NaN   \n",
            "       2007-11-29      2.253033  22.332286        NaN   \n",
            "       2007-11-30     -1.122881  22.576857        NaN   \n",
            "       2007-12-03     -1.829869  22.767714        NaN   \n",
            "\n",
            "                   Rolling Volatility (30d)  \n",
            "Ticker Date                                  \n",
            "aapl   2007-11-12                       NaN  \n",
            "       2007-11-13                       NaN  \n",
            "       2007-11-14                       NaN  \n",
            "       2007-11-15                       NaN  \n",
            "       2007-11-16                       NaN  \n",
            "       2007-11-19                       NaN  \n",
            "       2007-11-20                       NaN  \n",
            "       2007-11-21                       NaN  \n",
            "       2007-11-23                       NaN  \n",
            "       2007-11-26                       NaN  \n",
            "       2007-11-27                       NaN  \n",
            "       2007-11-28                       NaN  \n",
            "       2007-11-29                       NaN  \n",
            "       2007-11-30                       NaN  \n",
            "       2007-12-03                       NaN  \n"
          ]
        }
      ]
    },
    {
      "cell_type": "code",
      "source": [
        "# Group by Ticker and calculate mean daily return and then the hishest daily return\n",
        "avg_returns = multi_index_df.groupby(level='Ticker')['Daily Return'].mean()\n",
        "highest_avg_return = avg_returns.idxmax()\n",
        "\n",
        "print(f\"Stock with highest average return: {highest_avg_return}\")\n",
        "print(avg_returns.sort_values(ascending=False))\n"
      ],
      "metadata": {
        "colab": {
          "base_uri": "https://localhost:8080/"
        },
        "id": "emSBmVDG2m04",
        "outputId": "7fd828fb-15f8-4fc7-b486-4c206b5c5c45"
      },
      "execution_count": null,
      "outputs": [
        {
          "output_type": "stream",
          "name": "stdout",
          "text": [
            "Stock with highest average return: tsla\n",
            "Ticker\n",
            "tsla     0.210083\n",
            "amzn     0.135932\n",
            "aapl     0.106375\n",
            "googl    0.064454\n",
            "msft     0.058938\n",
            "Name: Daily Return, dtype: float64\n"
          ]
        }
      ]
    },
    {
      "cell_type": "code",
      "source": [
        "# Group by Ticker and MONth, calculate std deviation of Daily Returns\n",
        "monthly_vol = multi_index_df.groupby([pd.Grouper(level='Ticker'), pd.Grouper(level='Date', freq='M')])['Daily Return'].std()\n",
        "#sorting the volatitlity in descneding ore=der& heads(1) gets the max volatitlity\n",
        "most_volatile = monthly_vol.sort_values(ascending=False).head(1)\n",
        "# t get the DATE\n",
        "stock, date = most_volatile.index[0]\n",
        "#                                         for formating                                    volatility value in 2 decimals\n",
        "print(f\"Most volatile month: {stock} in {date.strftime('%B %Y')} with volatility {most_volatile.iloc[0]:.2f}%\")\n"
      ],
      "metadata": {
        "colab": {
          "base_uri": "https://localhost:8080/"
        },
        "id": "e43koQHM2uqu",
        "outputId": "83780dbb-6864-41ac-f860-b1ed6b067524"
      },
      "execution_count": null,
      "outputs": [
        {
          "output_type": "stream",
          "name": "stdout",
          "text": [
            "Most volatile month: tsla in June 2010 with volatility 28.84%\n"
          ]
        },
        {
          "output_type": "stream",
          "name": "stderr",
          "text": [
            "<ipython-input-146-a0237c3e57c9>:2: FutureWarning: 'M' is deprecated and will be removed in a future version, please use 'ME' instead.\n",
            "  monthly_vol = multi_index_df.groupby([pd.Grouper(level='Ticker'), pd.Grouper(level='Date', freq='M')])['Daily Return'].std()\n"
          ]
        }
      ]
    }
  ]
}
